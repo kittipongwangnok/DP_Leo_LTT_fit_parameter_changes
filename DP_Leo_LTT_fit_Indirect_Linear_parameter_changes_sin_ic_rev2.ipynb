{
 "cells": [
  {
   "cell_type": "code",
   "execution_count": 1,
   "id": "0df4333b",
   "metadata": {},
   "outputs": [],
   "source": [
    "#Import module\n",
    "import sys\n",
    "import os\n",
    "import numpy as np\n",
    "import matplotlib.pyplot as plt\n",
    "from scipy.optimize import curve_fit\n",
    "from scipy import stats\n",
    "import scipy.optimize as optimization  \n",
    "import pandas as pd\n",
    "#Latex font\n",
    "import matplotlib as mpl\n",
    "from matplotlib import rc\n",
    "plt.rc('text', usetex=True)\n",
    "plt.rc('font', family='serif',size=16)"
   ]
  },
  {
   "cell_type": "code",
   "execution_count": 10,
   "id": "97188154",
   "metadata": {},
   "outputs": [],
   "source": [
    "K_s = 33.7\n",
    "a_AU = 8.19\n",
    "a_m = a_AU*1.5e11\n",
    "c = 3e8\n",
    "#print(a_m)"
   ]
  },
  {
   "cell_type": "code",
   "execution_count": 11,
   "id": "50bfd7f2",
   "metadata": {},
   "outputs": [
    {
     "name": "stdout",
     "output_type": "stream",
     "text": [
      "Inclination(rad): 0.008229641124041497\n",
      "Inclination(deg): 0.4715237033148766\n"
     ]
    }
   ],
   "source": [
    "i_c_rad = np.arcsin((K_s*c)/a_m)\n",
    "print('Inclination(rad):',i_c_rad)\n",
    "\n",
    "i_c_deg = (i_c_rad*180)/np.pi\n",
    "print('Inclination(deg):',i_c_deg)"
   ]
  },
  {
   "cell_type": "code",
   "execution_count": 13,
   "id": "91a45feb",
   "metadata": {},
   "outputs": [
    {
     "name": "stdout",
     "output_type": "stream",
     "text": [
      "Inclination(rad): 0.0024420048691053847\n",
      "Inclination(deg): 0.13991657255013557\n"
     ]
    }
   ],
   "source": [
    "K_s = 10\n",
    "a_AU = 8.19\n",
    "a_m = a_AU*1.5e11\n",
    "c = 3e8\n",
    "#print(a_m)\n",
    "\n",
    "i_c_rad = np.arcsin((K_s*c)/a_m)\n",
    "print('Inclination(rad):',i_c_rad)\n",
    "\n",
    "i_c_deg = (i_c_rad*180)/np.pi\n",
    "print('Inclination(deg):',i_c_deg)"
   ]
  },
  {
   "cell_type": "code",
   "execution_count": 14,
   "id": "39d4cd9c",
   "metadata": {},
   "outputs": [
    {
     "name": "stdout",
     "output_type": "stream",
     "text": [
      "Inclination(rad): 0.004884024300984742\n",
      "Inclination(deg): 0.27983397948575783\n"
     ]
    }
   ],
   "source": [
    "K_s = 20\n",
    "a_AU = 8.19\n",
    "a_m = a_AU*1.5e11\n",
    "c = 3e8\n",
    "#print(a_m)\n",
    "\n",
    "i_c_rad = np.arcsin((K_s*c)/a_m)\n",
    "print('Inclination(rad):',i_c_rad)\n",
    "\n",
    "i_c_deg = (i_c_rad*180)/np.pi\n",
    "print('Inclination(deg):',i_c_deg)"
   ]
  },
  {
   "cell_type": "code",
   "execution_count": 15,
   "id": "e83b9325",
   "metadata": {},
   "outputs": [
    {
     "name": "stdout",
     "output_type": "stream",
     "text": [
      "Inclination(rad): 0.007326072859193665\n",
      "Inclination(deg): 0.41975305523713685\n"
     ]
    }
   ],
   "source": [
    "K_s = 30\n",
    "a_AU = 8.19\n",
    "a_m = a_AU*1.5e11\n",
    "c = 3e8\n",
    "#print(a_m)\n",
    "\n",
    "i_c_rad = np.arcsin((K_s*c)/a_m)\n",
    "print('Inclination(rad):',i_c_rad)\n",
    "\n",
    "i_c_deg = (i_c_rad*180)/np.pi\n",
    "print('Inclination(deg):',i_c_deg)"
   ]
  },
  {
   "cell_type": "code",
   "execution_count": 16,
   "id": "59604efb",
   "metadata": {},
   "outputs": [
    {
     "name": "stdout",
     "output_type": "stream",
     "text": [
      "Inclination(rad): 0.009768165108851097\n",
      "Inclination(deg): 0.5596746343241162\n"
     ]
    }
   ],
   "source": [
    "K_s = 40\n",
    "a_AU = 8.19\n",
    "a_m = a_AU*1.5e11\n",
    "c = 3e8\n",
    "#print(a_m)\n",
    "\n",
    "i_c_rad = np.arcsin((K_s*c)/a_m)\n",
    "print('Inclination(rad):',i_c_rad)\n",
    "\n",
    "i_c_deg = (i_c_rad*180)/np.pi\n",
    "print('Inclination(deg):',i_c_deg)"
   ]
  },
  {
   "cell_type": "code",
   "execution_count": 17,
   "id": "03eb1a42",
   "metadata": {},
   "outputs": [
    {
     "name": "stdout",
     "output_type": "stream",
     "text": [
      "Inclination(rad): 0.012210315617421301\n",
      "Inclination(deg): 0.6995995514009166\n"
     ]
    }
   ],
   "source": [
    "K_s = 50\n",
    "a_AU = 8.19\n",
    "a_m = a_AU*1.5e11\n",
    "c = 3e8\n",
    "#print(a_m)\n",
    "\n",
    "i_c_rad = np.arcsin((K_s*c)/a_m)\n",
    "print('Inclination(rad):',i_c_rad)\n",
    "\n",
    "i_c_deg = (i_c_rad*180)/np.pi\n",
    "print('Inclination(deg):',i_c_deg)"
   ]
  },
  {
   "cell_type": "code",
   "execution_count": null,
   "id": "aaa276c7",
   "metadata": {},
   "outputs": [],
   "source": []
  }
 ],
 "metadata": {
  "kernelspec": {
   "display_name": "Python 3 (ipykernel)",
   "language": "python",
   "name": "python3"
  },
  "language_info": {
   "codemirror_mode": {
    "name": "ipython",
    "version": 3
   },
   "file_extension": ".py",
   "mimetype": "text/x-python",
   "name": "python",
   "nbconvert_exporter": "python",
   "pygments_lexer": "ipython3",
   "version": "3.9.7"
  }
 },
 "nbformat": 4,
 "nbformat_minor": 5
}
